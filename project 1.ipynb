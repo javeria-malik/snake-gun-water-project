{
 "cells": [
  {
   "cell_type": "code",
   "execution_count": 8,
   "id": "4ad2382f",
   "metadata": {},
   "outputs": [],
   "source": [
    "import random"
   ]
  },
  {
   "cell_type": "code",
   "execution_count": 9,
   "id": "18f30a19",
   "metadata": {},
   "outputs": [],
   "source": [
    "def gameWin(comp,you):\n",
    "    if comp == you:\n",
    "        return None\n",
    "    elif comp == \"s\":\n",
    "        if you == \"w\":\n",
    "            return False\n",
    "        elif you == \"g\":\n",
    "            return True\n",
    "    elif comp == \"w\":\n",
    "        if you == \"g\":\n",
    "            return False\n",
    "        elif you == \"s\":\n",
    "            return True\n",
    "    elif comp == \"g\":\n",
    "        if you == \"s\":\n",
    "            return False\n",
    "        elif you == \"w\":\n",
    "            return True\n",
    "        \n",
    "    "
   ]
  },
  {
   "cell_type": "code",
   "execution_count": 10,
   "id": "7674f81e",
   "metadata": {},
   "outputs": [],
   "source": [
    "randNo = random.randint(1,3)"
   ]
  },
  {
   "cell_type": "code",
   "execution_count": 11,
   "id": "19207a47",
   "metadata": {},
   "outputs": [],
   "source": [
    "#print(randNo)"
   ]
  },
  {
   "cell_type": "code",
   "execution_count": 12,
   "id": "b3e752f0",
   "metadata": {},
   "outputs": [],
   "source": [
    "#a=input(\"computer  turn :Snake(s) Water(w) or Gun(g)\")"
   ]
  },
  {
   "cell_type": "code",
   "execution_count": 13,
   "id": "c2415c8c",
   "metadata": {},
   "outputs": [],
   "source": [
    "if randNo==1:\n",
    "    comp = \"s\"\n",
    "elif randNo==2:\n",
    "    comp=\"w\"\n",
    "elif randNo==3:\n",
    "    comp=\"g\""
   ]
  },
  {
   "cell_type": "code",
   "execution_count": 14,
   "id": "df1f79ee",
   "metadata": {},
   "outputs": [
    {
     "name": "stdout",
     "output_type": "stream",
     "text": [
      "players' 2 turn :Snake(1) Water(2) or Gun(3)?2\n"
     ]
    }
   ],
   "source": [
    "you=input(\"players' 2 turn :Snake(1) Water(2) or Gun(3)?\")"
   ]
  },
  {
   "cell_type": "code",
   "execution_count": 15,
   "id": "82f26f13",
   "metadata": {},
   "outputs": [
    {
     "name": "stdout",
     "output_type": "stream",
     "text": [
      " computer choosew\n",
      " you choose2\n",
      "the game is tie\n"
     ]
    }
   ],
   "source": [
    "a=gameWin(comp,you)\n",
    "print(f\" computer choose{comp}\")\n",
    "print(f\" you choose{you}\")\n",
    "\n",
    "if a==None:\n",
    "    print(\"the game is tie\")\n",
    "elif a:\n",
    "    print(\"you win\")\n",
    "else:\n",
    "    print(\"you lose \")"
   ]
  },
  {
   "cell_type": "code",
   "execution_count": 16,
   "id": "aeb64db0",
   "metadata": {},
   "outputs": [],
   "source": []
  },
  {
   "cell_type": "code",
   "execution_count": null,
   "id": "bdac8e5c",
   "metadata": {},
   "outputs": [],
   "source": []
  },
  {
   "cell_type": "code",
   "execution_count": null,
   "id": "d754f1b3",
   "metadata": {},
   "outputs": [],
   "source": []
  }
 ],
 "metadata": {
  "kernelspec": {
   "display_name": "Python 3",
   "language": "python",
   "name": "python3"
  },
  "language_info": {
   "codemirror_mode": {
    "name": "ipython",
    "version": 3
   },
   "file_extension": ".py",
   "mimetype": "text/x-python",
   "name": "python",
   "nbconvert_exporter": "python",
   "pygments_lexer": "ipython3",
   "version": "3.8.8"
  }
 },
 "nbformat": 4,
 "nbformat_minor": 5
}
